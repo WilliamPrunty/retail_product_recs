{
 "cells": [
  {
   "cell_type": "markdown",
   "id": "5bd11bca",
   "metadata": {},
   "source": [
    "Updating previous work to pivot the new information obtained from the updated pct_sold_with efforts. I will NOT be looking at store level for this continued analysis."
   ]
  },
  {
   "cell_type": "code",
   "execution_count": 1,
   "id": "ede43645",
   "metadata": {},
   "outputs": [],
   "source": [
    "import pandas as pd"
   ]
  },
  {
   "cell_type": "code",
   "execution_count": 2,
   "id": "5c7102ba",
   "metadata": {},
   "outputs": [
    {
     "name": "stderr",
     "output_type": "stream",
     "text": [
      "C:\\Users\\willi\\AppData\\Local\\Temp\\ipykernel_18748\\3019035241.py:10: DtypeWarning: Columns (4) have mixed types. Specify dtype option on import or set low_memory=False.\n",
      "  fulldf = pd.read_csv('../data/fulldf.csv')\n"
     ]
    }
   ],
   "source": [
    "#reading in necessary files for analysis, shoe recommendations\n",
    "\n",
    "departmentindex = pd.read_csv('../data/departmentindex.csv')\n",
    "storedata = pd.read_csv('../data/stores.csv')\n",
    "products = pd.read_csv('../data/products.csv')\n",
    "shoedivs = pd.read_csv('../newdata/topshoesdivision.csv')\n",
    "shoeregions = pd.read_csv('../newdata/topshoesregion.csv')\n",
    "shoestates = pd.read_csv('../newdata/topshoesstate.csv')\n",
    "shoedistricts = pd.read_csv('../newdata/topshoesdistrict.csv')\n",
    "fulldf = pd.read_csv('../data/fulldf.csv')"
   ]
  },
  {
   "cell_type": "code",
   "execution_count": 3,
   "id": "28bb8b53",
   "metadata": {},
   "outputs": [],
   "source": [
    "#reading in necessary files for accessory recommendations\n",
    "\n",
    "accdivs = pd.read_csv('../newdata/topaccdiv.csv')\n",
    "accregions = pd.read_csv('../newdata/topaccregion.csv')\n",
    "accstates = pd.read_csv('../newdata/topaccstate.csv')\n",
    "accdistricts = pd.read_csv('../newdata/topaccdistrict.csv')"
   ]
  },
  {
   "cell_type": "code",
   "execution_count": 4,
   "id": "6f1686de",
   "metadata": {},
   "outputs": [],
   "source": [
    "#Filtering shoe and accessory tables by count, where we only want to represent\n",
    "#products sold together 3 or more times.\n",
    "\n",
    "shoedivs = shoedivs[(shoedivs['count'] >=3 )]\n",
    "shoeregions = shoeregions[(shoeregions['count'] >= 3)]\n",
    "shoestates = shoestates[(shoestates['count'] >= 3)]\n",
    "shoedistricts = shoedistricts[(shoedistricts['count'] >= 3)]\n",
    "\n",
    "\n",
    "accdivs = accdivs[(accdivs['count'] >=3 )]\n",
    "accregions = accregions[(accregions['count'] >= 3)]\n",
    "accstates = accstates[(accstates['count'] >= 3)]\n",
    "accdistricts = accdistricts[(accdistricts['count'] >= 3)]"
   ]
  },
  {
   "cell_type": "code",
   "execution_count": 5,
   "id": "5dd3ca89",
   "metadata": {},
   "outputs": [],
   "source": [
    "# Concatenating all tables together to work in a future for loop.\n",
    "\n",
    "allreclevels = pd.concat([shoedivs, shoeregions, shoedistricts, shoestates, accdivs, accregions, accdistricts, accstates], ignore_index=True, axis=0)"
   ]
  },
  {
   "cell_type": "code",
   "execution_count": 6,
   "id": "0c5b40e5",
   "metadata": {},
   "outputs": [],
   "source": [
    "#re-organizing table and eliminating the count column.\n",
    "\n",
    "allreclevels = allreclevels[['primary_stockno', 'secondary_stockno','secondaryshoe', 'pctsaleswith', 'count', 'level', 'hierarchyid']]"
   ]
  },
  {
   "cell_type": "code",
   "execution_count": 7,
   "id": "f0962626",
   "metadata": {},
   "outputs": [],
   "source": [
    "#only returning the necessary store information\n",
    "districtdata = storedata[['DIV', 'STORE', 'REGION', 'DISTRICT', 'STORE_STATE_ALPHA']]\n",
    "\n",
    "#creating a simplified dataframe for filtering with\n",
    "districtdata = districtdata[['DISTRICT', 'STORE_STATE_ALPHA', 'REGION', 'DIV']]\n",
    "\n",
    "#dropping duplicate rows.\n",
    "districtdata = districtdata.drop_duplicates(keep='first')"
   ]
  },
  {
   "cell_type": "code",
   "execution_count": 8,
   "id": "143e09a1",
   "metadata": {},
   "outputs": [],
   "source": [
    "#creating a list of districts and modifying column type to work with a loop\n",
    "districtslist = districtdata['DISTRICT'].unique().astype(str).tolist()\n",
    "districtdata['REGION'] = districtdata['REGION'].astype(str)"
   ]
  },
  {
   "cell_type": "code",
   "execution_count": 9,
   "id": "728eb205",
   "metadata": {},
   "outputs": [],
   "source": [
    "#creating an empty dataframe to push results to.\n",
    "recommendations = pd.DataFrame(columns = ['district', 'primary_stockno', 'shoe1', 'level1', 'pct1', 'shoe2', 'level2', 'pct2', 'shoe3', 'level3', 'pct3'])"
   ]
  },
  {
   "cell_type": "code",
   "execution_count": 10,
   "id": "c55ffe29",
   "metadata": {},
   "outputs": [
    {
     "name": "stderr",
     "output_type": "stream",
     "text": [
      "C:\\Users\\willi\\AppData\\Local\\Temp\\ipykernel_18748\\1368214614.py:3: SettingWithCopyWarning: \n",
      "A value is trying to be set on a copy of a slice from a DataFrame.\n",
      "Try using .loc[row_indexer,col_indexer] = value instead\n",
      "\n",
      "See the caveats in the documentation: https://pandas.pydata.org/pandas-docs/stable/user_guide/indexing.html#returning-a-view-versus-a-copy\n",
      "  allshoes['hierarchyid'] = allshoes['hierarchyid'].astype(str)\n",
      "C:\\Users\\willi\\AppData\\Local\\Temp\\ipykernel_18748\\1368214614.py:7: SettingWithCopyWarning: \n",
      "A value is trying to be set on a copy of a slice from a DataFrame.\n",
      "Try using .loc[row_indexer,col_indexer] = value instead\n",
      "\n",
      "See the caveats in the documentation: https://pandas.pydata.org/pandas-docs/stable/user_guide/indexing.html#returning-a-view-versus-a-copy\n",
      "  allacc['hierarchyid'] = allacc['hierarchyid'].astype(str)\n"
     ]
    }
   ],
   "source": [
    "#subsetting to just shoe to shoe sales\n",
    "allshoes = allreclevels[(allreclevels['secondaryshoe'] == 1)]\n",
    "allshoes['hierarchyid'] = allshoes['hierarchyid'].astype(str)\n",
    "\n",
    "#subsetting to just shoe to accessory sales\n",
    "allacc = allreclevels[(allreclevels['secondaryshoe'] == 0)]\n",
    "allacc['hierarchyid'] = allacc['hierarchyid'].astype(str)"
   ]
  },
  {
   "cell_type": "code",
   "execution_count": 11,
   "id": "b757a09d",
   "metadata": {
    "scrolled": true
   },
   "outputs": [
    {
     "data": {
      "text/plain": [
       "True"
      ]
     },
     "execution_count": 11,
     "metadata": {},
     "output_type": "execute_result"
    }
   ],
   "source": [
    "#sanity checking the table was split appropriately and there isn't anything weird going on.\n",
    "\n",
    "len(allacc) + len(allshoes) == len(allreclevels)"
   ]
  },
  {
   "cell_type": "markdown",
   "id": "45119d43",
   "metadata": {},
   "source": [
    "If everything above works, this should be returning the most accurate version of product recommendations by pct_sold_with."
   ]
  },
  {
   "cell_type": "code",
   "execution_count": 12,
   "id": "eef59f0f",
   "metadata": {},
   "outputs": [],
   "source": [
    "#this is a program that starts at the district level and tries to fill in recommendations for every product offered\n",
    "#slowly working it's way up the hierarchy chain until as many products as possible are filled in at the lowest possible hierarchy level.\n",
    "#district/product combos that can not be populated are pushed to an errors list. Will investigate, but I suspect those are products not bought in the listed district.\n",
    "#current formatting of this cell returns shoe recommendations for a shoe purchase.\n",
    "productrecs1 = []\n",
    "productlist = allreclevels.primary_stockno.unique().tolist()\n",
    "errors = []\n",
    "\n",
    "for district in districtslist:\n",
    "    \n",
    "    districtfiltered = allshoes[(allshoes['hierarchyid'] == district) & (allshoes['level'] == 'district')]\n",
    "    \n",
    "    for product in productlist:\n",
    "        \n",
    "        temp = districtfiltered[(districtfiltered['primary_stockno'] == product)]\n",
    "        temp2 = allshoes[(allshoes['hierarchyid'].isin(districtdata[(districtdata['DISTRICT'] == int(district))].STORE_STATE_ALPHA.tolist())) & (allshoes['primary_stockno'] == product)]\n",
    "        temp3 = allshoes[(allshoes['hierarchyid'].isin(districtdata[(districtdata['DISTRICT'] == int(district))].REGION.astype(str).unique().tolist())) & (allshoes['primary_stockno'] == product) & (allshoes['level'] == 'region')]\n",
    "        temp4 = allshoes[(allshoes['level'] == 'div') & (allshoes['hierarchyid'] == '8') & (allshoes['primary_stockno'] == product)]\n",
    "        \n",
    "        if len(temp) == 3: #111\n",
    "            productrecs1.append([district, temp.iloc[0,0], \n",
    "                                 temp.iloc[0, 1], temp.iloc[0, -2], temp.iloc[0, 4],\n",
    "                                 temp.iloc[1, 1], temp.iloc[1, -2], temp.iloc[1, 4],\n",
    "                                 temp.iloc[2, 1], temp.iloc[2, -2], temp.iloc[2, 4]])\n",
    "            \n",
    "        elif len(temp) == 2:           \n",
    "            if len(temp) == 2 and len(temp2) >= 1: #112\n",
    "                productrecs1.append([district, temp.iloc[0,0], \n",
    "                                     temp.iloc[0, 1], temp.iloc[0, -2], temp.iloc[0, 4],\n",
    "                                     temp.iloc[1, 1], temp.iloc[1, -2], temp.iloc[1, 4],\n",
    "                                     temp2.iloc[0, 1], temp2.iloc[0, -2], temp2.iloc[0, 4]])\n",
    "            elif len(temp) == 2 and len(temp3) >= 1: #113\n",
    "                productrecs1.append([district, temp.iloc[0,0], \n",
    "                                     temp.iloc[0, 1], temp.iloc[0, -2], temp.iloc[0, 4],\n",
    "                                     temp.iloc[1, 1], temp.iloc[1, -2], temp.iloc[1, 4],\n",
    "                                     temp3.iloc[0, 1], temp3.iloc[0, -2], temp3.iloc[0, 4]])\n",
    "            elif len(temp) == 2 and len(temp4) >= 1: #114\n",
    "                productrecs1.append([district, temp.iloc[0,0], \n",
    "                                     temp.iloc[0, 1], temp.iloc[0, -2], temp.iloc[0, 4],\n",
    "                                     temp.iloc[1, 1], temp.iloc[1, -2], temp.iloc[1, 4],\n",
    "                                     temp4.iloc[0, 1], temp4.iloc[0, -2], temp4.iloc[0, 4]])\n",
    "            \n",
    "        elif len(temp) == 1: \n",
    "            if len(temp2) >= 2: #122\n",
    "                productrecs1.append([district, temp.iloc[0,0], \n",
    "                                     temp.iloc[0, 1], temp.iloc[0, -2], temp.iloc[0, 4],\n",
    "                                     temp2.iloc[0, 1], temp2.iloc[0, -2], temp2.iloc[0, 4],\n",
    "                                     temp2.iloc[1, 1], temp2.iloc[1, -2], temp2.iloc[1, 4]])\n",
    "            elif len(temp2) == 1 and len(temp3)  >= 1: #123\n",
    "                productrecs1.append([district, temp.iloc[0,0], \n",
    "                                     temp.iloc[0, 1], temp.iloc[0, -2], temp.iloc[0, 4],\n",
    "                                     temp2.iloc[0, 1], temp2.iloc[0, -2], temp2.iloc[0, 4],\n",
    "                                     temp3.iloc[0, 1], temp3.iloc[0, -2], temp3.iloc[0, 4]])\n",
    "            elif len(temp2) == 1 and len(temp4) >= 1: #124\n",
    "                productrecs1.append([district, temp.iloc[0,0], \n",
    "                                     temp.iloc[0, 1], temp.iloc[0, -2], temp.iloc[0, 4],\n",
    "                                     temp2.iloc[0, 1], temp2.iloc[0, -2], temp2.iloc[0, 4],\n",
    "                                     temp4.iloc[0, 1], temp4.iloc[0, -2], temp4.iloc[0, 4]])\n",
    "            elif len(temp) == 1 and len(temp3) >= 2: #133\n",
    "                productrecs1.append([district, temp.iloc[0,0], \n",
    "                                     temp.iloc[0, 1], temp.iloc[0, -2], temp.iloc[0, 4],\n",
    "                                     temp3.iloc[0, 1], temp3.iloc[0, -2], temp3.iloc[0, 4],\n",
    "                                     temp3.iloc[1, 1], temp3.iloc[1, -2], temp3.iloc[1, 4]])\n",
    "            elif len(temp) == 1 and len(temp3) >= 1 and len(temp4) >=1: #134\n",
    "                productrecs1.append([district, temp.iloc[0,0], \n",
    "                                     temp.iloc[0, 1], temp.iloc[0, -2], temp.iloc[0, 4],\n",
    "                                     temp3.iloc[0, 1], temp3.iloc[0, -2], temp3.iloc[0, 4],\n",
    "                                     temp4.iloc[0, 1], temp4.iloc[0, -2], temp4.iloc[0, 4]])\n",
    "            elif len(temp) == 1 and len(temp4) >= 2: #144\n",
    "                productrecs1.append([district, temp.iloc[0,0], \n",
    "                                     temp.iloc[0, 1], temp.iloc[0, -2], temp.iloc[0, 4],\n",
    "                                     temp4.iloc[0, 1], temp4.iloc[0, -2], temp4.iloc[0, 4],\n",
    "                                     temp4.iloc[1, 1], temp4.iloc[1, -2], temp4.iloc[1, 4]])\n",
    "        \n",
    "        elif len(temp2) == 3: #222\n",
    "            productrecs1.append([district, temp2.iloc[0,0], \n",
    "                                temp2.iloc[0, 1], temp2.iloc[0, -2], temp2.iloc[0, 4],\n",
    "                                temp2.iloc[1, 1], temp2.iloc[1, -2], temp2.iloc[1, 4],\n",
    "                                temp2.iloc[2, 1], temp2.iloc[2, -2], temp2.iloc[2, 4]])\n",
    "        \n",
    "        elif len(temp2) == 2: \n",
    "            if len(temp2) == 2 and len(temp3) >= 1: #223\n",
    "                productrecs1.append([district, temp2.iloc[0,0], \n",
    "                                     temp2.iloc[0, 1], temp2.iloc[0, -2], temp2.iloc[0, 4],\n",
    "                                     temp2.iloc[1, 1], temp2.iloc[1, -2], temp2.iloc[1, 4],\n",
    "                                     temp3.iloc[0, 1], temp3.iloc[0, -2], temp3.iloc[0, 4]])\n",
    "            elif len(temp2) == 2 and len(temp4) >= 1: #224\n",
    "                productrecs1.append([district, temp2.iloc[0,0], \n",
    "                                     temp2.iloc[0, 1], temp2.iloc[0, -2], temp2.iloc[0, 4],\n",
    "                                     temp2.iloc[1, 1], temp2.iloc[1, -2], temp2.iloc[1, 4],\n",
    "                                     temp4.iloc[0, 1], temp4.iloc[0, -2], temp4.iloc[0, 4]])\n",
    "            elif len(temp2) == 1 and len(temp3) >= 2: #233\n",
    "                productrecs1.append([district, temp2.iloc[0,0], \n",
    "                                     temp2.iloc[0, 1], temp2.iloc[0, -2], temp2.iloc[0, 4],\n",
    "                                     temp3.iloc[0, 1], temp3.iloc[0, -2], temp3.iloc[0, 4],\n",
    "                                     temp3.iloc[1, 1], temp3.iloc[1, -2], temp3.iloc[1, 4]])\n",
    "            elif len(temp2) == 1 and len(temp3) == 1 and len(temp4) >= 1: #234\n",
    "                productrecs1.append([district, temp2.iloc[0,0], \n",
    "                                     temp2.iloc[0, 1], temp2.iloc[0, -2], temp2.iloc[0, 4],\n",
    "                                     temp3.iloc[0, 1], temp3.iloc[0, -2], temp3.iloc[0, 4],\n",
    "                                     temp4.iloc[0, 1], temp4.iloc[0, -2], temp4.iloc[0, 4]])\n",
    "            elif len(temp2) == 1 and len(temp4) >= 2: #244\n",
    "                productrecs1.append([district, temp2.iloc[0,0], \n",
    "                                     temp2.iloc[0, 1], temp2.iloc[0, -2], temp2.iloc[0, 4],\n",
    "                                     temp4.iloc[0, 1], temp4.iloc[0, -2], temp4.iloc[0, 4],\n",
    "                                     temp4.iloc[1, 1], temp4.iloc[1, -2], temp4.iloc[1, 4]])\n",
    "        \n",
    "        elif len(temp) == 0 and len(temp3) == 3: #333\n",
    "            productrecs1.append([district, temp3.iloc[0,0], \n",
    "                                temp3.iloc[0, 1], temp3.iloc[0, -2], temp3.iloc[0, 4],\n",
    "                                temp3.iloc[1, 1], temp3.iloc[1, -2], temp3.iloc[1, 4],\n",
    "                                temp3.iloc[2, 1], temp3.iloc[2, -2], temp3.iloc[2, 4]])\n",
    "        \n",
    "        elif len(temp3) == 2 and len(temp4) >= 1: #334\n",
    "            productrecs1.append([district, temp3.iloc[0,0], \n",
    "                                temp3.iloc[0, 1], temp3.iloc[0, -2], temp3.iloc[0, 4],\n",
    "                                temp3.iloc[1, 1], temp3.iloc[1, -2], temp3.iloc[1, 4],\n",
    "                                temp4.iloc[0, 1], temp4.iloc[0, -2], temp4.iloc[0, 4]])\n",
    "        \n",
    "        elif len(temp3) == 1 and len(temp4) >= 2: #344\n",
    "            productrecs1.append([district, temp3.iloc[0,0], \n",
    "                                temp3.iloc[0,1], temp3.iloc[0, -2], temp3.iloc[0, 4],\n",
    "                                temp4.iloc[0,1], temp4.iloc[0, -2], temp4.iloc[0, 4],\n",
    "                                temp4.iloc[1,1], temp4.iloc[1, -2], temp4.iloc[1, 4]])\n",
    "        elif len(temp4) == 3: #444\n",
    "            productrecs1.append([district, temp4.iloc[0,0], \n",
    "                                temp4.iloc[0, 1], temp4.iloc[0, -2], temp4.iloc[0, 4],\n",
    "                                temp4.iloc[1, 1], temp4.iloc[1, -2], temp4.iloc[1, 4],\n",
    "                                temp4.iloc[2, 1], temp4.iloc[2, -2], temp4.iloc[2, 4]])\n",
    "        \n",
    "        else:\n",
    "            errors.append([district, product])\n",
    "                  "
   ]
  },
  {
   "cell_type": "code",
   "execution_count": 13,
   "id": "58e238ea",
   "metadata": {},
   "outputs": [],
   "source": [
    "shoerecs = pd.DataFrame(productrecs1)"
   ]
  },
  {
   "cell_type": "code",
   "execution_count": 14,
   "id": "54bf16d2",
   "metadata": {},
   "outputs": [],
   "source": [
    "shoerecs.columns = ['district', 'primary_stockno', 'shoe1', 'level1', 'count1', 'shoe2', 'level2', 'count2', 'shoe3', 'level3', 'count3']"
   ]
  },
  {
   "cell_type": "code",
   "execution_count": 15,
   "id": "ded49262",
   "metadata": {},
   "outputs": [],
   "source": [
    "shoerecs.to_csv('../newdata/shoerecscount.csv', index=False)"
   ]
  },
  {
   "cell_type": "code",
   "execution_count": 16,
   "id": "ed63e1da",
   "metadata": {},
   "outputs": [],
   "source": [
    "pd.DataFrame(errors).to_csv('../newdata/shoeerrors.csv', index=False)"
   ]
  },
  {
   "cell_type": "code",
   "execution_count": 17,
   "id": "65f858a5",
   "metadata": {},
   "outputs": [],
   "source": [
    "accrecs = pd.read_csv('../newdata/accrecscount.csv')\n",
    "shoerecs = pd.read_csv('../newdata/shoerecscount.csv')"
   ]
  },
  {
   "cell_type": "code",
   "execution_count": 18,
   "id": "19d898b4",
   "metadata": {},
   "outputs": [
    {
     "data": {
      "text/plain": [
       "div                  32149\n",
       "region               15711\n",
       "store_state_alpha    12469\n",
       "district              7340\n",
       "Name: level1, dtype: int64"
      ]
     },
     "execution_count": 18,
     "metadata": {},
     "output_type": "execute_result"
    }
   ],
   "source": [
    "shoerecs['level1'].value_counts()"
   ]
  },
  {
   "cell_type": "code",
   "execution_count": 19,
   "id": "d961f7a6",
   "metadata": {},
   "outputs": [
    {
     "data": {
      "text/plain": [
       "div                  34702\n",
       "store_state_alpha    14224\n",
       "region               13663\n",
       "district              5080\n",
       "Name: level2, dtype: int64"
      ]
     },
     "execution_count": 19,
     "metadata": {},
     "output_type": "execute_result"
    }
   ],
   "source": [
    "shoerecs['level2'].value_counts()"
   ]
  },
  {
   "cell_type": "code",
   "execution_count": 20,
   "id": "70ff10c1",
   "metadata": {},
   "outputs": [
    {
     "data": {
      "text/plain": [
       "div                  37047\n",
       "region               14180\n",
       "store_state_alpha    12584\n",
       "district              3858\n",
       "Name: level3, dtype: int64"
      ]
     },
     "execution_count": 20,
     "metadata": {},
     "output_type": "execute_result"
    }
   ],
   "source": [
    "shoerecs['level3'].value_counts()"
   ]
  },
  {
   "cell_type": "code",
   "execution_count": 21,
   "id": "ca6d0689",
   "metadata": {},
   "outputs": [
    {
     "name": "stdout",
     "output_type": "stream",
     "text": [
      "51.179515977281575\n",
      "21.43965479022891\n",
      "19.34760870314817\n",
      "8.018442713798047\n"
     ]
    }
   ],
   "source": [
    "#finding what percentage of recommendations come from a given hierarchy for shoes.\n",
    "\n",
    "print((32149+34702+37047) / (len(shoerecs)*3) * 100)\n",
    "print((15711+13633+14180) / (len(shoerecs)*3) * 100)\n",
    "print((12469+14224+12584) / (len(shoerecs)*3) * 100)\n",
    "print((3858+5080+7340) / (len(shoerecs)*3) * 100)"
   ]
  },
  {
   "cell_type": "code",
   "execution_count": 22,
   "id": "8ce4c713",
   "metadata": {},
   "outputs": [
    {
     "data": {
      "text/plain": [
       "div                  31558\n",
       "region                8820\n",
       "store_state_alpha     5375\n",
       "district              4818\n",
       "Name: level1, dtype: int64"
      ]
     },
     "execution_count": 22,
     "metadata": {},
     "output_type": "execute_result"
    }
   ],
   "source": [
    "accrecs['level1'].value_counts()"
   ]
  },
  {
   "cell_type": "code",
   "execution_count": 23,
   "id": "c99bb4e5",
   "metadata": {},
   "outputs": [
    {
     "data": {
      "text/plain": [
       "div                  32349\n",
       "region                8464\n",
       "store_state_alpha     5920\n",
       "district              3838\n",
       "Name: level2, dtype: int64"
      ]
     },
     "execution_count": 23,
     "metadata": {},
     "output_type": "execute_result"
    }
   ],
   "source": [
    "accrecs['level2'].value_counts()"
   ]
  },
  {
   "cell_type": "code",
   "execution_count": 24,
   "id": "1c54429f",
   "metadata": {},
   "outputs": [
    {
     "data": {
      "text/plain": [
       "div                  33406\n",
       "region                8570\n",
       "store_state_alpha     5533\n",
       "district              3062\n",
       "Name: level3, dtype: int64"
      ]
     },
     "execution_count": 24,
     "metadata": {},
     "output_type": "execute_result"
    }
   ],
   "source": [
    "accrecs['level3'].value_counts()"
   ]
  },
  {
   "cell_type": "code",
   "execution_count": 25,
   "id": "2f740a09",
   "metadata": {},
   "outputs": [
    {
     "name": "stdout",
     "output_type": "stream",
     "text": [
      "64.14282230263721\n",
      "17.041387356390025\n",
      "11.091996071529795\n",
      "7.723794269442961\n"
     ]
    }
   ],
   "source": [
    "#finding what percentage of recommendations come from a given hierarchy for accessories.\n",
    "\n",
    "print((31558+32349+33406) / (len(accrecs)*3) * 100)\n",
    "print((8820+8464+8570) / (len(accrecs)*3) * 100)\n",
    "print((5375+5920+5533) / (len(accrecs)*3) * 100)\n",
    "print((3062+3838+4818) / (len(accrecs)*3) * 100)"
   ]
  },
  {
   "cell_type": "code",
   "execution_count": 26,
   "id": "a61db0d6",
   "metadata": {},
   "outputs": [],
   "source": [
    "noproductsdistrict = pd.DataFrame(fulldf.groupby('district').primary_stockno.nunique()).reset_index()"
   ]
  },
  {
   "cell_type": "code",
   "execution_count": 27,
   "id": "d803d25f",
   "metadata": {},
   "outputs": [],
   "source": [
    "accrecsdistrict = pd.DataFrame(accrecs.groupby('district').primary_stockno.nunique()).reset_index()"
   ]
  },
  {
   "cell_type": "code",
   "execution_count": 28,
   "id": "bb321b2d",
   "metadata": {},
   "outputs": [],
   "source": [
    "shoerecsdistrict = pd.DataFrame(shoerecs.groupby('district').primary_stockno.nunique()).reset_index()"
   ]
  },
  {
   "cell_type": "code",
   "execution_count": 29,
   "id": "64dbd0a3",
   "metadata": {},
   "outputs": [],
   "source": [
    "accrecsdistrict.columns = ['district', 'noofaccrecs']\n",
    "shoerecsdistrict.columns = ['district', 'noofshoerecs']"
   ]
  },
  {
   "cell_type": "code",
   "execution_count": 30,
   "id": "44569d27",
   "metadata": {},
   "outputs": [],
   "source": [
    "noproductsdistrict.columns = ['district', 'totalproducts']"
   ]
  },
  {
   "cell_type": "code",
   "execution_count": 31,
   "id": "6f720d8d",
   "metadata": {},
   "outputs": [],
   "source": [
    "noproductsdistrict['district'] = noproductsdistrict['district'].astype(float).astype(int)"
   ]
  },
  {
   "cell_type": "code",
   "execution_count": 32,
   "id": "dc6593f5",
   "metadata": {},
   "outputs": [],
   "source": [
    "shoerecsdistrict['district'] = shoerecsdistrict['district'].astype(str)\n",
    "accrecsdistrict['district'] = accrecsdistrict['district'].astype(str)\n",
    "noproductsdistrict['district'] = noproductsdistrict['district'].astype(str)"
   ]
  },
  {
   "cell_type": "code",
   "execution_count": 33,
   "id": "6e9a7d10",
   "metadata": {},
   "outputs": [],
   "source": [
    "recstats = shoerecsdistrict.merge(accrecsdistrict, on='district')"
   ]
  },
  {
   "cell_type": "code",
   "execution_count": 34,
   "id": "cea061a9",
   "metadata": {},
   "outputs": [],
   "source": [
    "recstats = recstats.merge(noproductsdistrict, on='district')"
   ]
  },
  {
   "cell_type": "code",
   "execution_count": 35,
   "id": "3927e154",
   "metadata": {},
   "outputs": [],
   "source": [
    "recstats['pctwithaccrecs'] = recstats['noofaccrecs'] / recstats['totalproducts'] * 100\n",
    "recstats['pctwithshoerecs'] = recstats['noofshoerecs'] / recstats['totalproducts'] * 100"
   ]
  },
  {
   "cell_type": "code",
   "execution_count": 36,
   "id": "2bff5e88",
   "metadata": {},
   "outputs": [],
   "source": [
    "recstats.to_csv('../newdata/recommendationstats.csv', index=False)"
   ]
  },
  {
   "cell_type": "code",
   "execution_count": 37,
   "id": "9e9d28e2",
   "metadata": {},
   "outputs": [
    {
     "data": {
      "text/plain": [
       "count    67.000000\n",
       "mean     50.322931\n",
       "std       4.630794\n",
       "min      40.992750\n",
       "25%      47.240983\n",
       "50%      49.377049\n",
       "75%      51.996947\n",
       "max      68.059424\n",
       "Name: pctwithaccrecs, dtype: float64"
      ]
     },
     "execution_count": 37,
     "metadata": {},
     "output_type": "execute_result"
    }
   ],
   "source": [
    "recstats.pctwithaccrecs.describe()"
   ]
  },
  {
   "cell_type": "code",
   "execution_count": 38,
   "id": "ca579bfe",
   "metadata": {},
   "outputs": [
    {
     "data": {
      "text/plain": [
       "count    67.000000\n",
       "mean     67.350877\n",
       "std       6.375152\n",
       "min      56.274400\n",
       "25%      63.671396\n",
       "50%      66.509751\n",
       "75%      69.700896\n",
       "max      93.686165\n",
       "Name: pctwithshoerecs, dtype: float64"
      ]
     },
     "execution_count": 38,
     "metadata": {},
     "output_type": "execute_result"
    }
   ],
   "source": [
    "recstats.pctwithshoerecs.describe()"
   ]
  },
  {
   "cell_type": "code",
   "execution_count": 39,
   "id": "7ba17a41",
   "metadata": {},
   "outputs": [
    {
     "data": {
      "text/html": [
       "<div>\n",
       "<style scoped>\n",
       "    .dataframe tbody tr th:only-of-type {\n",
       "        vertical-align: middle;\n",
       "    }\n",
       "\n",
       "    .dataframe tbody tr th {\n",
       "        vertical-align: top;\n",
       "    }\n",
       "\n",
       "    .dataframe thead th {\n",
       "        text-align: right;\n",
       "    }\n",
       "</style>\n",
       "<table border=\"1\" class=\"dataframe\">\n",
       "  <thead>\n",
       "    <tr style=\"text-align: right;\">\n",
       "      <th></th>\n",
       "      <th>district</th>\n",
       "      <th>noofshoerecs</th>\n",
       "      <th>noofaccrecs</th>\n",
       "      <th>totalproducts</th>\n",
       "      <th>pctwithaccrecs</th>\n",
       "      <th>pctwithshoerecs</th>\n",
       "    </tr>\n",
       "  </thead>\n",
       "  <tbody>\n",
       "    <tr>\n",
       "      <th>0</th>\n",
       "      <td>1</td>\n",
       "      <td>1009</td>\n",
       "      <td>736</td>\n",
       "      <td>1496</td>\n",
       "      <td>49.197861</td>\n",
       "      <td>67.446524</td>\n",
       "    </tr>\n",
       "    <tr>\n",
       "      <th>1</th>\n",
       "      <td>2</td>\n",
       "      <td>993</td>\n",
       "      <td>758</td>\n",
       "      <td>1637</td>\n",
       "      <td>46.304215</td>\n",
       "      <td>60.659743</td>\n",
       "    </tr>\n",
       "    <tr>\n",
       "      <th>2</th>\n",
       "      <td>3</td>\n",
       "      <td>995</td>\n",
       "      <td>740</td>\n",
       "      <td>1429</td>\n",
       "      <td>51.784465</td>\n",
       "      <td>69.629111</td>\n",
       "    </tr>\n",
       "    <tr>\n",
       "      <th>3</th>\n",
       "      <td>4</td>\n",
       "      <td>1038</td>\n",
       "      <td>827</td>\n",
       "      <td>1489</td>\n",
       "      <td>55.540631</td>\n",
       "      <td>69.711216</td>\n",
       "    </tr>\n",
       "    <tr>\n",
       "      <th>4</th>\n",
       "      <td>5</td>\n",
       "      <td>991</td>\n",
       "      <td>730</td>\n",
       "      <td>1580</td>\n",
       "      <td>46.202532</td>\n",
       "      <td>62.721519</td>\n",
       "    </tr>\n",
       "    <tr>\n",
       "      <th>...</th>\n",
       "      <td>...</td>\n",
       "      <td>...</td>\n",
       "      <td>...</td>\n",
       "      <td>...</td>\n",
       "      <td>...</td>\n",
       "      <td>...</td>\n",
       "    </tr>\n",
       "    <tr>\n",
       "      <th>62</th>\n",
       "      <td>69</td>\n",
       "      <td>992</td>\n",
       "      <td>756</td>\n",
       "      <td>1373</td>\n",
       "      <td>55.061908</td>\n",
       "      <td>72.250546</td>\n",
       "    </tr>\n",
       "    <tr>\n",
       "      <th>63</th>\n",
       "      <td>70</td>\n",
       "      <td>1009</td>\n",
       "      <td>733</td>\n",
       "      <td>1077</td>\n",
       "      <td>68.059424</td>\n",
       "      <td>93.686165</td>\n",
       "    </tr>\n",
       "    <tr>\n",
       "      <th>64</th>\n",
       "      <td>71</td>\n",
       "      <td>992</td>\n",
       "      <td>746</td>\n",
       "      <td>1364</td>\n",
       "      <td>54.692082</td>\n",
       "      <td>72.727273</td>\n",
       "    </tr>\n",
       "    <tr>\n",
       "      <th>65</th>\n",
       "      <td>72</td>\n",
       "      <td>1002</td>\n",
       "      <td>750</td>\n",
       "      <td>1437</td>\n",
       "      <td>52.192067</td>\n",
       "      <td>69.728601</td>\n",
       "    </tr>\n",
       "    <tr>\n",
       "      <th>66</th>\n",
       "      <td>73</td>\n",
       "      <td>991</td>\n",
       "      <td>730</td>\n",
       "      <td>1556</td>\n",
       "      <td>46.915167</td>\n",
       "      <td>63.688946</td>\n",
       "    </tr>\n",
       "  </tbody>\n",
       "</table>\n",
       "<p>67 rows × 6 columns</p>\n",
       "</div>"
      ],
      "text/plain": [
       "   district  noofshoerecs  noofaccrecs  totalproducts  pctwithaccrecs  \\\n",
       "0         1          1009          736           1496       49.197861   \n",
       "1         2           993          758           1637       46.304215   \n",
       "2         3           995          740           1429       51.784465   \n",
       "3         4          1038          827           1489       55.540631   \n",
       "4         5           991          730           1580       46.202532   \n",
       "..      ...           ...          ...            ...             ...   \n",
       "62       69           992          756           1373       55.061908   \n",
       "63       70          1009          733           1077       68.059424   \n",
       "64       71           992          746           1364       54.692082   \n",
       "65       72          1002          750           1437       52.192067   \n",
       "66       73           991          730           1556       46.915167   \n",
       "\n",
       "    pctwithshoerecs  \n",
       "0         67.446524  \n",
       "1         60.659743  \n",
       "2         69.629111  \n",
       "3         69.711216  \n",
       "4         62.721519  \n",
       "..              ...  \n",
       "62        72.250546  \n",
       "63        93.686165  \n",
       "64        72.727273  \n",
       "65        69.728601  \n",
       "66        63.688946  \n",
       "\n",
       "[67 rows x 6 columns]"
      ]
     },
     "execution_count": 39,
     "metadata": {},
     "output_type": "execute_result"
    }
   ],
   "source": [
    "recstats.reset_index(drop=True)"
   ]
  },
  {
   "cell_type": "code",
   "execution_count": null,
   "id": "937bc032",
   "metadata": {},
   "outputs": [],
   "source": []
  }
 ],
 "metadata": {
  "kernelspec": {
   "display_name": "Python 3 (ipykernel)",
   "language": "python",
   "name": "python3"
  },
  "language_info": {
   "codemirror_mode": {
    "name": "ipython",
    "version": 3
   },
   "file_extension": ".py",
   "mimetype": "text/x-python",
   "name": "python",
   "nbconvert_exporter": "python",
   "pygments_lexer": "ipython3",
   "version": "3.9.13"
  }
 },
 "nbformat": 4,
 "nbformat_minor": 5
}
